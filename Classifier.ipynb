{
 "cells": [
  {
   "cell_type": "code",
   "execution_count": 7,
   "metadata": {},
   "outputs": [
    {
     "name": "stdout",
     "output_type": "stream",
     "text": [
      "Once deleted, variables cannot be recovered. Proceed (y/[n])? y\n"
     ]
    },
    {
     "name": "stderr",
     "output_type": "stream",
     "text": [
      "ERROR:root:Invalid alias: The name clear can't be aliased because it is another magic command.\n",
      "ERROR:root:Invalid alias: The name more can't be aliased because it is another magic command.\n",
      "ERROR:root:Invalid alias: The name less can't be aliased because it is another magic command.\n",
      "ERROR:root:Invalid alias: The name man can't be aliased because it is another magic command.\n"
     ]
    },
    {
     "name": "stdout",
     "output_type": "stream",
     "text": [
      "cuda:0\n"
     ]
    }
   ],
   "source": [
    "%reset\n",
    "import numpy as np\n",
    "import glob\n",
    "import matplotlib.pyplot as plt\n",
    "import torch\n",
    "import torch.nn as nn\n",
    "from torch.autograd import Variable\n",
    "import torch.utils.data as data\n",
    "from torch.optim import lr_scheduler\n",
    "import copy\n",
    "import time\n",
    "from collections import defaultdict\n",
    "\n",
    "device = torch.device(\"cuda:0\" if torch.cuda.is_available() else \"cpu\")\n",
    "print(device)"
   ]
  },
  {
   "cell_type": "markdown",
   "metadata": {},
   "source": [
    "Dataloader"
   ]
  },
  {
   "cell_type": "code",
   "execution_count": 8,
   "metadata": {},
   "outputs": [],
   "source": [
    "# We read the dataset and create an iterable.\n",
    "class features_from_views(data.Dataset):\n",
    "    def __init__(self, features_path, gt_path):\n",
    "        \n",
    "        self.features = features_path\n",
    "        self.ground_truth = gt_path\n",
    "        \n",
    "        \n",
    "    def __getitem__(self, index):   # Function that returns one point and one label.\n",
    "        self.feat = torch.load(self.features[index])\n",
    "        self.feat = self.feat.permute(1, 0, 2)\n",
    "        self.feat = torch.flatten(self.feat, start_dim = 1)\n",
    "        self.gt = torch.load(self.ground_truth[index])\n",
    "        self.gt = torch.sparse.FloatTensor(self.gt[0].unsqueeze(0), self.gt[1], \n",
    "                              size = torch.Size([self.feat.shape[0]])).to_dense()\n",
    "        return  self.feat, self.gt\n",
    "    \n",
    "    def __len__(self):   # Length of the dataset.\n",
    "        return len(self.features)"
   ]
  },
  {
   "cell_type": "code",
   "execution_count": 9,
   "metadata": {},
   "outputs": [],
   "source": [
    "# We create the dataloader.\n",
    "path_features = 'LEARNING/features/*.pt'\n",
    "path_ground_truth = 'LEARNING/ground_truth_3D/*.pt'\n",
    "list_features = glob.glob(path_features)\n",
    "list_ground_truth = glob.glob(path_ground_truth)\n",
    "train_features = features_from_views(list_features, list_ground_truth)\n",
    "batch_size = 1\n",
    "feature_loader = data.DataLoader(train_features, batch_size=batch_size, num_workers=0)"
   ]
  },
  {
   "cell_type": "code",
   "execution_count": 10,
   "metadata": {},
   "outputs": [],
   "source": [
    "#for feat, gt in feature_loader:\n",
    "#    print(feat.shape, gt.shape)"
   ]
  },
  {
   "cell_type": "code",
   "execution_count": 11,
   "metadata": {},
   "outputs": [],
   "source": [
    "# We build a simple model with the inputs and one output layer.\n",
    "class my_model(nn.Module):\n",
    "    def __init__(self,n_in = 504,n_hidden=10,n_out= 6 ):\n",
    "        super(my_model,self).__init__()\n",
    "        self.n_in  = n_in\n",
    "        self.n_out = n_out\n",
    "         \n",
    "        self.linearlinear = nn.Sequential(\n",
    "            nn.Linear(self.n_in,self.n_out,bias=True),   # Hidden layer.\n",
    "            )\n",
    "       # self.logprob = nn.LogSoftmax(dim=1)                 # -Log(Softmax probability).\n",
    "    \n",
    "    def forward(self,x):\n",
    "        x = self.linearlinear(x)\n",
    "       # x = self.logprob(x)\n",
    "        return x\n"
   ]
  },
  {
   "cell_type": "code",
   "execution_count": 12,
   "metadata": {},
   "outputs": [],
   "source": [
    "# Now, we create the mode, the loss function or criterium and the optimizer \n",
    "# that we are going to use to minimize the loss.\n",
    "\n",
    "# Model.\n",
    "model = my_model().to(device)\n",
    "\n",
    "# Negative log likelihood loss.\n",
    "#criterium = nn.NLLLoss()\n",
    "criterium = nn.CrossEntropyLoss()\n",
    "#criterium = my_loss()\n",
    "# Adam optimizer with learning rate 0.1 and L2 regularization with weight 1e-4.\n",
    "optimizer = torch.optim.Adam(model.parameters(),lr=0.1,weight_decay=1e-4)"
   ]
  },
  {
   "cell_type": "markdown",
   "metadata": {},
   "source": [
    "# Taining.\n",
    "for k, (data, target) in enumerate(feature_loader):\n",
    "    # Definition of inputs as variables for the net.\n",
    "    # requires_grad is set False because we do not need to compute the \n",
    "    # derivative of the inputs.\n",
    "    data   = Variable(data,requires_grad=False)\n",
    "    target = Variable(target.long(),requires_grad=False)\n",
    "    print(data.shape, target.shape)\n",
    "    # Set gradient to 0.\n",
    "    optimizer.zero_grad()\n",
    "    # Feed forward.\n",
    "    pred = model(data)\n",
    "    pred = pred.permute(0, 2, 1)\n",
    "    # Loss calculation.\n",
    "    print(pred.max())\n",
    "    loss = criterium(pred,target)\n",
    "    # Gradient calculation.\n",
    "    loss.backward()\n",
    "    \n",
    "    # Print loss every 10 iterations.\n",
    "    if k%10==0:\n",
    "        print('Loss {:.4f} at iter {:d}'.format(loss.item(),k))\n",
    "        \n",
    "    # Model weight modification based on the optimizer. \n",
    "    optimizer.step()"
   ]
  },
  {
   "cell_type": "code",
   "execution_count": 13,
   "metadata": {},
   "outputs": [],
   "source": [
    "def train_model(model, optimizer, scheduler, num_epochs=25):\n",
    "    best_model_wts = copy.deepcopy(model.state_dict())\n",
    "    best_loss = 1e10\n",
    "\n",
    "    for epoch in range(num_epochs):\n",
    "        print('Epoch {}/{}'.format(epoch, num_epochs - 1))\n",
    "        print('-' * 10)\n",
    "\n",
    "        since = time.time()\n",
    "\n",
    "        # Each epoch has a training and validation phase\n",
    "        for phase in ['train', 'val']:\n",
    "            if phase == 'train':\n",
    "                scheduler.step()\n",
    "                for param_group in optimizer.param_groups:\n",
    "                    print(\"LR\", param_group['lr'])\n",
    "\n",
    "                model.train()  # Set model to training mode\n",
    "            else:\n",
    "                model.eval()   # Set model to evaluate mode\n",
    "\n",
    "            metrics = defaultdict(float)\n",
    "            epoch_samples = 0\n",
    "\n",
    "            for inputs, labels in dataloaders[phase]:\n",
    "                inputs = inputs.to(device)\n",
    "                labels = labels.to(device)\n",
    "\n",
    "                # zero the parameter gradients\n",
    "                optimizer.zero_grad()\n",
    "\n",
    "                # forward\n",
    "                # track history if only in train\n",
    "                with torch.set_grad_enabled(phase == 'train'):\n",
    "                    outputs = model(inputs)\n",
    "                    outputs = outputs.permute(0, 2, 1)\n",
    "                    #loss = calc_loss(outputs, labels, metrics)\n",
    "                    loss = criterium(outputs, labels)\n",
    "                    # backward + optimize only if in training phase\n",
    "                    if phase == 'train':\n",
    "                        loss.backward()\n",
    "                        optimizer.step()\n",
    "\n",
    "                # statistics\n",
    "                epoch_samples += inputs.size(0)\n",
    "\n",
    "            #print_metrics(metrics, epoch_samples, phase)\n",
    "            #epoch_loss = metrics['loss'] / epoch_samples\n",
    "\n",
    "            # deep copy the model\n",
    "            #if phase == 'val' and epoch_loss < best_loss:\n",
    "            #    print(\"saving best model\")\n",
    "            #    best_loss = epoch_loss\n",
    "            #    best_model_wts = copy.deepcopy(model.state_dict())\n",
    "\n",
    "        time_elapsed = time.time() - since\n",
    "        print('{:.0f}m {:.0f}s'.format(time_elapsed // 60, time_elapsed % 60))\n",
    "\n",
    "    print('Best val loss: {:4f}'.format(loss))\n",
    "\n",
    "    # load best model weights\n",
    "    #model.load_state_dict(best_model_wts)\n",
    "    return model"
   ]
  },
  {
   "cell_type": "code",
   "execution_count": 14,
   "metadata": {},
   "outputs": [
    {
     "name": "stdout",
     "output_type": "stream",
     "text": [
      "cuda:0\n",
      "Epoch 0/4\n",
      "----------\n",
      "LR 0.1\n",
      "1m 31s\n",
      "Epoch 1/4\n",
      "----------\n",
      "LR 0.1\n",
      "1m 32s\n",
      "Epoch 2/4\n",
      "----------\n",
      "LR 0.1\n",
      "1m 32s\n",
      "Epoch 3/4\n",
      "----------\n",
      "LR 0.1\n",
      "1m 32s\n",
      "Epoch 4/4\n",
      "----------\n",
      "LR 0.1\n",
      "1m 32s\n",
      "Best val loss: 10000000000.000000\n"
     ]
    }
   ],
   "source": [
    "batch_size = 4\n",
    "\n",
    "dataloaders = {\n",
    "    'train':feature_loader,\n",
    "    'val': feature_loader\n",
    "    }\n",
    "num_class = 6\n",
    "\n",
    "exp_lr_scheduler = lr_scheduler.StepLR(optimizer, step_size=30, gamma=0.1)\n",
    "print(device)\n",
    "model = train_model(model, optimizer, exp_lr_scheduler, num_epochs=5)"
   ]
  },
  {
   "cell_type": "code",
   "execution_count": null,
   "metadata": {},
   "outputs": [],
   "source": [
    "pred_arg = torch.argmax(pred, dim = 1)"
   ]
  },
  {
   "cell_type": "code",
   "execution_count": 20,
   "metadata": {},
   "outputs": [
    {
     "data": {
      "text/plain": [
       "(tensor([0]), tensor([2197000]))"
      ]
     },
     "execution_count": 20,
     "metadata": {},
     "output_type": "execute_result"
    }
   ],
   "source": [
    "torch.unique(pred_arg, return_counts = True)"
   ]
  },
  {
   "cell_type": "code",
   "execution_count": 16,
   "metadata": {},
   "outputs": [],
   "source": [
    "for inputs, labels in dataloaders[\"train\"]:\n",
    "    inputs = inputs.to(device)\n",
    "    outputs = model(inputs)"
   ]
  },
  {
   "cell_type": "code",
   "execution_count": 23,
   "metadata": {},
   "outputs": [],
   "source": [
    "arg = torch.argmax(outputs, dim = 2)"
   ]
  },
  {
   "cell_type": "code",
   "execution_count": 26,
   "metadata": {},
   "outputs": [
    {
     "data": {
      "text/plain": [
       "tensor([0], device='cuda:0')"
      ]
     },
     "execution_count": 26,
     "metadata": {},
     "output_type": "execute_result"
    }
   ],
   "source": [
    "torch.unique(arg)"
   ]
  },
  {
   "cell_type": "code",
   "execution_count": null,
   "metadata": {},
   "outputs": [],
   "source": []
  }
 ],
 "metadata": {
  "kernelspec": {
   "display_name": "Python 3",
   "language": "python",
   "name": "python3"
  },
  "language_info": {
   "codemirror_mode": {
    "name": "ipython",
    "version": 3
   },
   "file_extension": ".py",
   "mimetype": "text/x-python",
   "name": "python",
   "nbconvert_exporter": "python",
   "pygments_lexer": "ipython3",
   "version": "3.7.3"
  }
 },
 "nbformat": 4,
 "nbformat_minor": 2
}
